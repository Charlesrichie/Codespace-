{
  "nbformat": 4,
  "nbformat_minor": 0,
  "metadata": {
    "colab": {
      "provenance": [],
      "authorship_tag": "ABX9TyNJigsC/iz9sPzec34OQSkz",
      "include_colab_link": true
    },
    "kernelspec": {
      "name": "python3",
      "display_name": "Python 3"
    },
    "language_info": {
      "name": "python"
    }
  },
  "cells": [
    {
      "cell_type": "markdown",
      "metadata": {
        "id": "view-in-github",
        "colab_type": "text"
      },
      "source": [
        "<a href=\"https://colab.research.google.com/github/Charlesrichie/Codespace-/blob/main/QNN_Pennylane.ipynb\" target=\"_parent\"><img src=\"https://colab.research.google.com/assets/colab-badge.svg\" alt=\"Open In Colab\"/></a>"
      ]
    },
    {
      "cell_type": "code",
      "execution_count": null,
      "metadata": {
        "colab": {
          "base_uri": "https://localhost:8080/"
        },
        "id": "-T2bt_MjpIt0",
        "outputId": "b5080846-eeec-413a-d8c5-3c64b57087c1"
      },
      "outputs": [
        {
          "output_type": "stream",
          "name": "stdout",
          "text": [
            "Mounted at /content/drive\n"
          ]
        }
      ],
      "source": [
        "import pandas as pd\n",
        "from sklearn.preprocessing import StandardScaler, LabelEncoder\n",
        "from sklearn.model_selection import train_test_split\n",
        "from google.colab import drive\n",
        "\n",
        "drive.mount(\"/content/drive\")\n",
        "# Load dataset\n",
        "\n",
        "df_normal = pd.read_csv(\"/content/drive/MyDrive/InSDN_DatasetCSV/Normal_data.csv\")\n",
        "df_meta = pd.read_csv(\"/content/drive/MyDrive/InSDN_DatasetCSV/metasploitable-2.csv\")\n",
        "df_ovs = pd.read_csv(\"/content/drive/MyDrive/InSDN_DatasetCSV/OVS.csv\")"
      ]
    },
    {
      "cell_type": "code",
      "source": [
        "# Concatenate the DataFrames\n",
        "df = pd.concat([df_normal, df_meta, df_ovs], ignore_index=True)"
      ],
      "metadata": {
        "id": "qrd97Dxydpw-"
      },
      "execution_count": null,
      "outputs": []
    },
    {
      "cell_type": "code",
      "source": [
        "df.tail(5)"
      ],
      "metadata": {
        "colab": {
          "base_uri": "https://localhost:8080/",
          "height": 481
        },
        "id": "-scLZuAqgMcr",
        "outputId": "f087fc2e-aaef-451b-eefc-3b03ddf24d09"
      },
      "execution_count": null,
      "outputs": [
        {
          "output_type": "execute_result",
          "data": {
            "text/plain": [
              "                                    Flow ID         Src IP  Src Port  \\\n",
              "343884  172.17.0.2-200.175.2.130-80-55440-6  200.175.2.130     55440   \n",
              "343885  172.17.0.2-200.175.2.130-80-55446-6  200.175.2.130     55446   \n",
              "343886  172.17.0.2-200.175.2.130-80-55446-6  200.175.2.130     55446   \n",
              "343887  172.17.0.2-200.175.2.130-80-55456-6  200.175.2.130     55456   \n",
              "343888  172.17.0.2-200.175.2.130-80-55456-6  200.175.2.130     55456   \n",
              "\n",
              "            Dst IP  Dst Port  Protocol               Timestamp  Flow Duration  \\\n",
              "343884  172.17.0.2        80         6  25/12/2019 05:19:55 PM            296   \n",
              "343885  172.17.0.2        80         6  25/12/2019 05:20:00 PM           3431   \n",
              "343886  172.17.0.2        80         6  25/12/2019 05:20:00 PM           4121   \n",
              "343887  172.17.0.2        80         6  25/12/2019 05:20:05 PM           5887   \n",
              "343888  172.17.0.2        80         6  25/12/2019 05:20:05 PM            150   \n",
              "\n",
              "        Tot Fwd Pkts  Tot Bwd Pkts  ...  Fwd Seg Size Min  Active Mean  \\\n",
              "343884             1             1  ...                 0          0.0   \n",
              "343885             2             5  ...                 0          0.0   \n",
              "343886             1             1  ...                 0          0.0   \n",
              "343887             2             5  ...                 0          0.0   \n",
              "343888             1             1  ...                 0          0.0   \n",
              "\n",
              "        Active Std  Active Max  Active Min  Idle Mean  Idle Std  Idle Max  \\\n",
              "343884         0.0         0.0         0.0        0.0       0.0       0.0   \n",
              "343885         0.0         0.0         0.0        0.0       0.0       0.0   \n",
              "343886         0.0         0.0         0.0        0.0       0.0       0.0   \n",
              "343887         0.0         0.0         0.0        0.0       0.0       0.0   \n",
              "343888         0.0         0.0         0.0        0.0       0.0       0.0   \n",
              "\n",
              "        Idle Min       Label  \n",
              "343884       0.0  Web-Attack  \n",
              "343885       0.0  Web-Attack  \n",
              "343886       0.0  Web-Attack  \n",
              "343887       0.0  Web-Attack  \n",
              "343888       0.0  Web-Attack  \n",
              "\n",
              "[5 rows x 84 columns]"
            ],
            "text/html": [
              "\n",
              "  <div id=\"df-41528793-8236-4496-adb2-fb448a956bf6\" class=\"colab-df-container\">\n",
              "    <div>\n",
              "<style scoped>\n",
              "    .dataframe tbody tr th:only-of-type {\n",
              "        vertical-align: middle;\n",
              "    }\n",
              "\n",
              "    .dataframe tbody tr th {\n",
              "        vertical-align: top;\n",
              "    }\n",
              "\n",
              "    .dataframe thead th {\n",
              "        text-align: right;\n",
              "    }\n",
              "</style>\n",
              "<table border=\"1\" class=\"dataframe\">\n",
              "  <thead>\n",
              "    <tr style=\"text-align: right;\">\n",
              "      <th></th>\n",
              "      <th>Flow ID</th>\n",
              "      <th>Src IP</th>\n",
              "      <th>Src Port</th>\n",
              "      <th>Dst IP</th>\n",
              "      <th>Dst Port</th>\n",
              "      <th>Protocol</th>\n",
              "      <th>Timestamp</th>\n",
              "      <th>Flow Duration</th>\n",
              "      <th>Tot Fwd Pkts</th>\n",
              "      <th>Tot Bwd Pkts</th>\n",
              "      <th>...</th>\n",
              "      <th>Fwd Seg Size Min</th>\n",
              "      <th>Active Mean</th>\n",
              "      <th>Active Std</th>\n",
              "      <th>Active Max</th>\n",
              "      <th>Active Min</th>\n",
              "      <th>Idle Mean</th>\n",
              "      <th>Idle Std</th>\n",
              "      <th>Idle Max</th>\n",
              "      <th>Idle Min</th>\n",
              "      <th>Label</th>\n",
              "    </tr>\n",
              "  </thead>\n",
              "  <tbody>\n",
              "    <tr>\n",
              "      <th>343884</th>\n",
              "      <td>172.17.0.2-200.175.2.130-80-55440-6</td>\n",
              "      <td>200.175.2.130</td>\n",
              "      <td>55440</td>\n",
              "      <td>172.17.0.2</td>\n",
              "      <td>80</td>\n",
              "      <td>6</td>\n",
              "      <td>25/12/2019 05:19:55 PM</td>\n",
              "      <td>296</td>\n",
              "      <td>1</td>\n",
              "      <td>1</td>\n",
              "      <td>...</td>\n",
              "      <td>0</td>\n",
              "      <td>0.0</td>\n",
              "      <td>0.0</td>\n",
              "      <td>0.0</td>\n",
              "      <td>0.0</td>\n",
              "      <td>0.0</td>\n",
              "      <td>0.0</td>\n",
              "      <td>0.0</td>\n",
              "      <td>0.0</td>\n",
              "      <td>Web-Attack</td>\n",
              "    </tr>\n",
              "    <tr>\n",
              "      <th>343885</th>\n",
              "      <td>172.17.0.2-200.175.2.130-80-55446-6</td>\n",
              "      <td>200.175.2.130</td>\n",
              "      <td>55446</td>\n",
              "      <td>172.17.0.2</td>\n",
              "      <td>80</td>\n",
              "      <td>6</td>\n",
              "      <td>25/12/2019 05:20:00 PM</td>\n",
              "      <td>3431</td>\n",
              "      <td>2</td>\n",
              "      <td>5</td>\n",
              "      <td>...</td>\n",
              "      <td>0</td>\n",
              "      <td>0.0</td>\n",
              "      <td>0.0</td>\n",
              "      <td>0.0</td>\n",
              "      <td>0.0</td>\n",
              "      <td>0.0</td>\n",
              "      <td>0.0</td>\n",
              "      <td>0.0</td>\n",
              "      <td>0.0</td>\n",
              "      <td>Web-Attack</td>\n",
              "    </tr>\n",
              "    <tr>\n",
              "      <th>343886</th>\n",
              "      <td>172.17.0.2-200.175.2.130-80-55446-6</td>\n",
              "      <td>200.175.2.130</td>\n",
              "      <td>55446</td>\n",
              "      <td>172.17.0.2</td>\n",
              "      <td>80</td>\n",
              "      <td>6</td>\n",
              "      <td>25/12/2019 05:20:00 PM</td>\n",
              "      <td>4121</td>\n",
              "      <td>1</td>\n",
              "      <td>1</td>\n",
              "      <td>...</td>\n",
              "      <td>0</td>\n",
              "      <td>0.0</td>\n",
              "      <td>0.0</td>\n",
              "      <td>0.0</td>\n",
              "      <td>0.0</td>\n",
              "      <td>0.0</td>\n",
              "      <td>0.0</td>\n",
              "      <td>0.0</td>\n",
              "      <td>0.0</td>\n",
              "      <td>Web-Attack</td>\n",
              "    </tr>\n",
              "    <tr>\n",
              "      <th>343887</th>\n",
              "      <td>172.17.0.2-200.175.2.130-80-55456-6</td>\n",
              "      <td>200.175.2.130</td>\n",
              "      <td>55456</td>\n",
              "      <td>172.17.0.2</td>\n",
              "      <td>80</td>\n",
              "      <td>6</td>\n",
              "      <td>25/12/2019 05:20:05 PM</td>\n",
              "      <td>5887</td>\n",
              "      <td>2</td>\n",
              "      <td>5</td>\n",
              "      <td>...</td>\n",
              "      <td>0</td>\n",
              "      <td>0.0</td>\n",
              "      <td>0.0</td>\n",
              "      <td>0.0</td>\n",
              "      <td>0.0</td>\n",
              "      <td>0.0</td>\n",
              "      <td>0.0</td>\n",
              "      <td>0.0</td>\n",
              "      <td>0.0</td>\n",
              "      <td>Web-Attack</td>\n",
              "    </tr>\n",
              "    <tr>\n",
              "      <th>343888</th>\n",
              "      <td>172.17.0.2-200.175.2.130-80-55456-6</td>\n",
              "      <td>200.175.2.130</td>\n",
              "      <td>55456</td>\n",
              "      <td>172.17.0.2</td>\n",
              "      <td>80</td>\n",
              "      <td>6</td>\n",
              "      <td>25/12/2019 05:20:05 PM</td>\n",
              "      <td>150</td>\n",
              "      <td>1</td>\n",
              "      <td>1</td>\n",
              "      <td>...</td>\n",
              "      <td>0</td>\n",
              "      <td>0.0</td>\n",
              "      <td>0.0</td>\n",
              "      <td>0.0</td>\n",
              "      <td>0.0</td>\n",
              "      <td>0.0</td>\n",
              "      <td>0.0</td>\n",
              "      <td>0.0</td>\n",
              "      <td>0.0</td>\n",
              "      <td>Web-Attack</td>\n",
              "    </tr>\n",
              "  </tbody>\n",
              "</table>\n",
              "<p>5 rows × 84 columns</p>\n",
              "</div>\n",
              "    <div class=\"colab-df-buttons\">\n",
              "\n",
              "  <div class=\"colab-df-container\">\n",
              "    <button class=\"colab-df-convert\" onclick=\"convertToInteractive('df-41528793-8236-4496-adb2-fb448a956bf6')\"\n",
              "            title=\"Convert this dataframe to an interactive table.\"\n",
              "            style=\"display:none;\">\n",
              "\n",
              "  <svg xmlns=\"http://www.w3.org/2000/svg\" height=\"24px\" viewBox=\"0 -960 960 960\">\n",
              "    <path d=\"M120-120v-720h720v720H120Zm60-500h600v-160H180v160Zm220 220h160v-160H400v160Zm0 220h160v-160H400v160ZM180-400h160v-160H180v160Zm440 0h160v-160H620v160ZM180-180h160v-160H180v160Zm440 0h160v-160H620v160Z\"/>\n",
              "  </svg>\n",
              "    </button>\n",
              "\n",
              "  <style>\n",
              "    .colab-df-container {\n",
              "      display:flex;\n",
              "      gap: 12px;\n",
              "    }\n",
              "\n",
              "    .colab-df-convert {\n",
              "      background-color: #E8F0FE;\n",
              "      border: none;\n",
              "      border-radius: 50%;\n",
              "      cursor: pointer;\n",
              "      display: none;\n",
              "      fill: #1967D2;\n",
              "      height: 32px;\n",
              "      padding: 0 0 0 0;\n",
              "      width: 32px;\n",
              "    }\n",
              "\n",
              "    .colab-df-convert:hover {\n",
              "      background-color: #E2EBFA;\n",
              "      box-shadow: 0px 1px 2px rgba(60, 64, 67, 0.3), 0px 1px 3px 1px rgba(60, 64, 67, 0.15);\n",
              "      fill: #174EA6;\n",
              "    }\n",
              "\n",
              "    .colab-df-buttons div {\n",
              "      margin-bottom: 4px;\n",
              "    }\n",
              "\n",
              "    [theme=dark] .colab-df-convert {\n",
              "      background-color: #3B4455;\n",
              "      fill: #D2E3FC;\n",
              "    }\n",
              "\n",
              "    [theme=dark] .colab-df-convert:hover {\n",
              "      background-color: #434B5C;\n",
              "      box-shadow: 0px 1px 3px 1px rgba(0, 0, 0, 0.15);\n",
              "      filter: drop-shadow(0px 1px 2px rgba(0, 0, 0, 0.3));\n",
              "      fill: #FFFFFF;\n",
              "    }\n",
              "  </style>\n",
              "\n",
              "    <script>\n",
              "      const buttonEl =\n",
              "        document.querySelector('#df-41528793-8236-4496-adb2-fb448a956bf6 button.colab-df-convert');\n",
              "      buttonEl.style.display =\n",
              "        google.colab.kernel.accessAllowed ? 'block' : 'none';\n",
              "\n",
              "      async function convertToInteractive(key) {\n",
              "        const element = document.querySelector('#df-41528793-8236-4496-adb2-fb448a956bf6');\n",
              "        const dataTable =\n",
              "          await google.colab.kernel.invokeFunction('convertToInteractive',\n",
              "                                                    [key], {});\n",
              "        if (!dataTable) return;\n",
              "\n",
              "        const docLinkHtml = 'Like what you see? Visit the ' +\n",
              "          '<a target=\"_blank\" href=https://colab.research.google.com/notebooks/data_table.ipynb>data table notebook</a>'\n",
              "          + ' to learn more about interactive tables.';\n",
              "        element.innerHTML = '';\n",
              "        dataTable['output_type'] = 'display_data';\n",
              "        await google.colab.output.renderOutput(dataTable, element);\n",
              "        const docLink = document.createElement('div');\n",
              "        docLink.innerHTML = docLinkHtml;\n",
              "        element.appendChild(docLink);\n",
              "      }\n",
              "    </script>\n",
              "  </div>\n",
              "\n",
              "\n",
              "    <div id=\"df-dfb7e48a-7950-45d3-a1f4-b6b29477b771\">\n",
              "      <button class=\"colab-df-quickchart\" onclick=\"quickchart('df-dfb7e48a-7950-45d3-a1f4-b6b29477b771')\"\n",
              "                title=\"Suggest charts\"\n",
              "                style=\"display:none;\">\n",
              "\n",
              "<svg xmlns=\"http://www.w3.org/2000/svg\" height=\"24px\"viewBox=\"0 0 24 24\"\n",
              "     width=\"24px\">\n",
              "    <g>\n",
              "        <path d=\"M19 3H5c-1.1 0-2 .9-2 2v14c0 1.1.9 2 2 2h14c1.1 0 2-.9 2-2V5c0-1.1-.9-2-2-2zM9 17H7v-7h2v7zm4 0h-2V7h2v10zm4 0h-2v-4h2v4z\"/>\n",
              "    </g>\n",
              "</svg>\n",
              "      </button>\n",
              "\n",
              "<style>\n",
              "  .colab-df-quickchart {\n",
              "      --bg-color: #E8F0FE;\n",
              "      --fill-color: #1967D2;\n",
              "      --hover-bg-color: #E2EBFA;\n",
              "      --hover-fill-color: #174EA6;\n",
              "      --disabled-fill-color: #AAA;\n",
              "      --disabled-bg-color: #DDD;\n",
              "  }\n",
              "\n",
              "  [theme=dark] .colab-df-quickchart {\n",
              "      --bg-color: #3B4455;\n",
              "      --fill-color: #D2E3FC;\n",
              "      --hover-bg-color: #434B5C;\n",
              "      --hover-fill-color: #FFFFFF;\n",
              "      --disabled-bg-color: #3B4455;\n",
              "      --disabled-fill-color: #666;\n",
              "  }\n",
              "\n",
              "  .colab-df-quickchart {\n",
              "    background-color: var(--bg-color);\n",
              "    border: none;\n",
              "    border-radius: 50%;\n",
              "    cursor: pointer;\n",
              "    display: none;\n",
              "    fill: var(--fill-color);\n",
              "    height: 32px;\n",
              "    padding: 0;\n",
              "    width: 32px;\n",
              "  }\n",
              "\n",
              "  .colab-df-quickchart:hover {\n",
              "    background-color: var(--hover-bg-color);\n",
              "    box-shadow: 0 1px 2px rgba(60, 64, 67, 0.3), 0 1px 3px 1px rgba(60, 64, 67, 0.15);\n",
              "    fill: var(--button-hover-fill-color);\n",
              "  }\n",
              "\n",
              "  .colab-df-quickchart-complete:disabled,\n",
              "  .colab-df-quickchart-complete:disabled:hover {\n",
              "    background-color: var(--disabled-bg-color);\n",
              "    fill: var(--disabled-fill-color);\n",
              "    box-shadow: none;\n",
              "  }\n",
              "\n",
              "  .colab-df-spinner {\n",
              "    border: 2px solid var(--fill-color);\n",
              "    border-color: transparent;\n",
              "    border-bottom-color: var(--fill-color);\n",
              "    animation:\n",
              "      spin 1s steps(1) infinite;\n",
              "  }\n",
              "\n",
              "  @keyframes spin {\n",
              "    0% {\n",
              "      border-color: transparent;\n",
              "      border-bottom-color: var(--fill-color);\n",
              "      border-left-color: var(--fill-color);\n",
              "    }\n",
              "    20% {\n",
              "      border-color: transparent;\n",
              "      border-left-color: var(--fill-color);\n",
              "      border-top-color: var(--fill-color);\n",
              "    }\n",
              "    30% {\n",
              "      border-color: transparent;\n",
              "      border-left-color: var(--fill-color);\n",
              "      border-top-color: var(--fill-color);\n",
              "      border-right-color: var(--fill-color);\n",
              "    }\n",
              "    40% {\n",
              "      border-color: transparent;\n",
              "      border-right-color: var(--fill-color);\n",
              "      border-top-color: var(--fill-color);\n",
              "    }\n",
              "    60% {\n",
              "      border-color: transparent;\n",
              "      border-right-color: var(--fill-color);\n",
              "    }\n",
              "    80% {\n",
              "      border-color: transparent;\n",
              "      border-right-color: var(--fill-color);\n",
              "      border-bottom-color: var(--fill-color);\n",
              "    }\n",
              "    90% {\n",
              "      border-color: transparent;\n",
              "      border-bottom-color: var(--fill-color);\n",
              "    }\n",
              "  }\n",
              "</style>\n",
              "\n",
              "      <script>\n",
              "        async function quickchart(key) {\n",
              "          const quickchartButtonEl =\n",
              "            document.querySelector('#' + key + ' button');\n",
              "          quickchartButtonEl.disabled = true;  // To prevent multiple clicks.\n",
              "          quickchartButtonEl.classList.add('colab-df-spinner');\n",
              "          try {\n",
              "            const charts = await google.colab.kernel.invokeFunction(\n",
              "                'suggestCharts', [key], {});\n",
              "          } catch (error) {\n",
              "            console.error('Error during call to suggestCharts:', error);\n",
              "          }\n",
              "          quickchartButtonEl.classList.remove('colab-df-spinner');\n",
              "          quickchartButtonEl.classList.add('colab-df-quickchart-complete');\n",
              "        }\n",
              "        (() => {\n",
              "          let quickchartButtonEl =\n",
              "            document.querySelector('#df-dfb7e48a-7950-45d3-a1f4-b6b29477b771 button');\n",
              "          quickchartButtonEl.style.display =\n",
              "            google.colab.kernel.accessAllowed ? 'block' : 'none';\n",
              "        })();\n",
              "      </script>\n",
              "    </div>\n",
              "\n",
              "    </div>\n",
              "  </div>\n"
            ],
            "application/vnd.google.colaboratory.intrinsic+json": {
              "type": "dataframe"
            }
          },
          "metadata": {},
          "execution_count": 4
        }
      ]
    },
    {
      "cell_type": "code",
      "source": [
        "df.dropna(inplace=True)"
      ],
      "metadata": {
        "id": "XxxibnmxlRGd"
      },
      "execution_count": null,
      "outputs": []
    },
    {
      "cell_type": "code",
      "source": [
        "df.count().values"
      ],
      "metadata": {
        "colab": {
          "base_uri": "https://localhost:8080/"
        },
        "id": "Nwck63fYlVPl",
        "outputId": "6c9e7f78-4f88-4c0c-d279-6c043f80fc29"
      },
      "execution_count": null,
      "outputs": [
        {
          "output_type": "execute_result",
          "data": {
            "text/plain": [
              "array([343889, 343889, 343889, 343889, 343889, 343889, 343889, 343889,\n",
              "       343889, 343889, 343889, 343889, 343889, 343889, 343889, 343889,\n",
              "       343889, 343889, 343889, 343889, 343889, 343889, 343889, 343889,\n",
              "       343889, 343889, 343889, 343889, 343889, 343889, 343889, 343889,\n",
              "       343889, 343889, 343889, 343889, 343889, 343889, 343889, 343889,\n",
              "       343889, 343889, 343889, 343889, 343889, 343889, 343889, 343889,\n",
              "       343889, 343889, 343889, 343889, 343889, 343889, 343889, 343889,\n",
              "       343889, 343889, 343889, 343889, 343889, 343889, 343889, 343889,\n",
              "       343889, 343889, 343889, 343889, 343889, 343889, 343889, 343889,\n",
              "       343889, 343889, 343889, 343889, 343889, 343889, 343889, 343889,\n",
              "       343889, 343889, 343889, 343889])"
            ]
          },
          "metadata": {},
          "execution_count": 6
        }
      ]
    },
    {
      "cell_type": "code",
      "source": [
        "df.any().sum()"
      ],
      "metadata": {
        "colab": {
          "base_uri": "https://localhost:8080/"
        },
        "id": "bfND2ZzFmev_",
        "outputId": "402c9b8f-adea-48ec-e265-7031799286fc"
      },
      "execution_count": null,
      "outputs": [
        {
          "output_type": "execute_result",
          "data": {
            "text/plain": [
              "np.int64(73)"
            ]
          },
          "metadata": {},
          "execution_count": 7
        }
      ]
    },
    {
      "cell_type": "code",
      "execution_count": null,
      "metadata": {
        "id": "shzmwwJjxsSA"
      },
      "outputs": [],
      "source": [
        "from sklearn.preprocessing import StandardScaler, LabelEncoder\n",
        "from sklearn.model_selection import train_test_split\n",
        "import pandas as pd\n",
        "\n",
        "\n",
        "# Select features and label from the current chunk\n",
        "features = ['Flow Duration', 'Tot Fwd Pkts', 'Tot Bwd Pkts', 'Fwd Pkt Len Mean']\n",
        "Label = ['Label']\n",
        "\n",
        "X = df[features].values\n",
        "y = df[Label].values\n",
        "\n",
        "label_encoder = LabelEncoder()\n",
        "y = label_encoder.fit_transform(y.ravel())\n",
        "\n",
        "scaler = StandardScaler()\n",
        "X = scaler.fit_transform(X)\n",
        "\n",
        "# Normalize features\n",
        "#X = StandardScaler().fit_transform(X)\n",
        "\n",
        "# Train-test split\n",
        "X_train, X_test, y_train, y_test = train_test_split(X, y, test_size=0.3, random_state=42)"
      ]
    },
    {
      "cell_type": "code",
      "source": [
        "y"
      ],
      "metadata": {
        "colab": {
          "base_uri": "https://localhost:8080/"
        },
        "id": "5oT-2B5_yCN_",
        "outputId": "845cbd2f-d83c-43a3-be8f-5215be42cf5f"
      },
      "execution_count": null,
      "outputs": [
        {
          "output_type": "execute_result",
          "data": {
            "text/plain": [
              "array([5, 5, 5, ..., 8, 8, 8])"
            ]
          },
          "metadata": {},
          "execution_count": 41
        }
      ]
    },
    {
      "cell_type": "code",
      "source": [
        "# Check the data type of the numpy array\n",
        "print(\"Data type of y:\", y.dtype)\n",
        "\n",
        "# Get the shape of the numpy array (which includes the number of elements)\n",
        "print(\"Shape of y:\", y.shape)\n",
        "\n",
        "# If you want to check for missing values in a numpy array, you can use np.isnan()\n",
        "# However, since y contains strings, np.isnan() is not directly applicable.\n",
        "# If y were numerical, you could use: print(\"Number of NaN values in y:\", np.isnan(y).sum())"
      ],
      "metadata": {
        "colab": {
          "base_uri": "https://localhost:8080/"
        },
        "id": "UHAUV1JryGr2",
        "outputId": "57a503fd-0667-4ea0-8d3c-e9ea40d1e353"
      },
      "execution_count": null,
      "outputs": [
        {
          "output_type": "stream",
          "name": "stdout",
          "text": [
            "Data type of y: int64\n",
            "Shape of y: (343889,)\n"
          ]
        }
      ]
    },
    {
      "cell_type": "code",
      "source": [
        "X"
      ],
      "metadata": {
        "colab": {
          "base_uri": "https://localhost:8080/"
        },
        "id": "zMRP_PfG-oDD",
        "outputId": "a8ccea22-0afa-4f8e-da3e-81fb4c798127"
      },
      "execution_count": null,
      "outputs": [
        {
          "output_type": "execute_result",
          "data": {
            "text/plain": [
              "array([[-2.97338352e-01,  2.43472393e-02,  3.20044884e-01,\n",
              "         1.04347001e+01],\n",
              "       [-2.35038758e-01,  6.48834307e-02,  1.34967521e+00,\n",
              "        -1.25766353e-01],\n",
              "       [-3.06139134e-01, -7.46593518e-04, -1.05703572e-02,\n",
              "        -1.13857825e-01],\n",
              "       ...,\n",
              "       [-3.08381421e-01, -3.32031996e-03, -4.83549562e-02,\n",
              "        -1.63124387e-01],\n",
              "       [-3.08300536e-01, -2.67688835e-03, -1.05703572e-02,\n",
              "         1.08906739e+00],\n",
              "       [-3.08563298e-01, -3.32031996e-03, -4.83549562e-02,\n",
              "        -1.63124387e-01]])"
            ]
          },
          "metadata": {},
          "execution_count": 43
        }
      ]
    },
    {
      "cell_type": "code",
      "source": [
        "# Check the data type of the numpy array\n",
        "print(\"Data type of X:\", X.dtype)\n",
        "\n",
        "# Get the shape of the numpy array (which includes the number of elements)\n",
        "print(\"Shape of X:\", X.shape)"
      ],
      "metadata": {
        "colab": {
          "base_uri": "https://localhost:8080/"
        },
        "id": "ofLhIgeX3Us-",
        "outputId": "d45636f6-daf8-43be-af14-d6aa43bbf235"
      },
      "execution_count": null,
      "outputs": [
        {
          "output_type": "stream",
          "name": "stdout",
          "text": [
            "Data type of X: float64\n",
            "Shape of X: (343889, 4)\n"
          ]
        }
      ]
    },
    {
      "cell_type": "code",
      "source": [
        "X.shape"
      ],
      "metadata": {
        "colab": {
          "base_uri": "https://localhost:8080/"
        },
        "id": "wjSOPplV-2g0",
        "outputId": "b2bb8e43-7226-4c52-a2d5-a65c17e1aa0a"
      },
      "execution_count": null,
      "outputs": [
        {
          "output_type": "execute_result",
          "data": {
            "text/plain": [
              "(343889, 4)"
            ]
          },
          "metadata": {},
          "execution_count": 46
        }
      ]
    },
    {
      "cell_type": "code",
      "execution_count": null,
      "metadata": {
        "colab": {
          "base_uri": "https://localhost:8080/"
        },
        "id": "uxFOLAzvUvT8",
        "outputId": "e5c91f41-d7ee-411f-b0fe-984dca944be2"
      },
      "outputs": [
        {
          "output_type": "stream",
          "name": "stderr",
          "text": [
            "/tmp/ipython-input-3865779910.py:5: SettingWithCopyWarning: \n",
            "A value is trying to be set on a copy of a slice from a DataFrame\n",
            "\n",
            "See the caveats in the documentation: https://pandas.pydata.org/pandas-docs/stable/user_guide/indexing.html#returning-a-view-versus-a-copy\n",
            "  df.dropna(inplace=True)\n",
            "/usr/local/lib/python3.12/dist-packages/sklearn/feature_selection/_univariate_selection.py:111: UserWarning: Features [32 34 51 52 57 58 59 60 61 62 67 70] are constant.\n",
            "  warnings.warn(\"Features %s are constant.\" % constant_features_idx, UserWarning)\n",
            "/usr/local/lib/python3.12/dist-packages/sklearn/feature_selection/_univariate_selection.py:112: RuntimeWarning: invalid value encountered in divide\n",
            "  f = msb / msw\n"
          ]
        }
      ],
      "source": [
        "from sklearn.feature_selection import SelectKBest, f_classif\n",
        "\n",
        "\n",
        "\n",
        "\n",
        "\n",
        "selector = SelectKBest(score_func=f_classif, k=4)\n",
        "X_new = selector.fit_transform(X, y)\n",
        "\n",
        "\n",
        "#X = df.iloc[:, 1:-1]\n",
        "#y = df.iloc[:, -1]\n",
        "\n",
        "# Drop non-numerical columns like 'Src IP' and 'Dst IP'\n",
        "#X = X.drop(['Src IP', 'Dst IP', 'Timestamp'], axis=1)\n",
        "\n",
        "\n",
        "\n",
        "#selector = SelectKBest(score_func=f_classif, k=4)\n",
        "#X_new = selector.fit_transform(X, y)\n",
        "\n",
        "subset = pd.DataFrame(X_new).sample(n=5000, random_state=42)\n",
        "subset['class'] = y\n",
        "\n",
        "subset.to_csv('subset.csv', index=False)"
      ]
    },
    {
      "cell_type": "markdown",
      "metadata": {
        "id": "62175dd7"
      },
      "source": [
        "# Task\n",
        "Train a QNN using the `subset` data."
      ]
    },
    {
      "cell_type": "markdown",
      "metadata": {
        "id": "f78c12a8"
      },
      "source": [
        "## Data preprocessing\n",
        "\n",
        "### Subtask:\n",
        "Prepare the `subset` data for the QNN by separating features and labels, encoding labels, and scaling features.\n"
      ]
    },
    {
      "cell_type": "markdown",
      "metadata": {
        "id": "93d54cf3"
      },
      "source": [
        "**Reasoning**:\n",
        "Separate features and labels, encode labels, and scale features according to the instructions.\n",
        "\n"
      ]
    },
    {
      "cell_type": "markdown",
      "metadata": {
        "id": "0d0b81c1"
      },
      "source": [
        "## Quantum circuit design\n",
        "\n",
        "### Subtask:\n",
        "Define the quantum circuit that will be used as the QNN model.\n"
      ]
    },
    {
      "cell_type": "markdown",
      "metadata": {
        "id": "e8642315"
      },
      "source": [
        "**Reasoning**:\n",
        "Define the quantum circuit for the QNN, including data encoding, parameterized layers, and measurement.\n",
        "\n"
      ]
    },
    {
      "cell_type": "code",
      "metadata": {
        "colab": {
          "base_uri": "https://localhost:8080/"
        },
        "id": "4TytEGt7iE3b",
        "outputId": "18699341-10a1-4ab3-b0f9-6aed7939a687"
      },
      "source": [
        "%pip install pennylane"
      ],
      "execution_count": null,
      "outputs": [
        {
          "output_type": "stream",
          "name": "stdout",
          "text": [
            "Requirement already satisfied: pennylane in /usr/local/lib/python3.12/dist-packages (0.42.3)\n",
            "Requirement already satisfied: scipy in /usr/local/lib/python3.12/dist-packages (from pennylane) (1.16.2)\n",
            "Requirement already satisfied: networkx in /usr/local/lib/python3.12/dist-packages (from pennylane) (3.5)\n",
            "Requirement already satisfied: rustworkx>=0.14.0 in /usr/local/lib/python3.12/dist-packages (from pennylane) (0.17.1)\n",
            "Requirement already satisfied: autograd in /usr/local/lib/python3.12/dist-packages (from pennylane) (1.8.0)\n",
            "Requirement already satisfied: appdirs in /usr/local/lib/python3.12/dist-packages (from pennylane) (1.4.4)\n",
            "Requirement already satisfied: autoray<0.8,>=0.6.11 in /usr/local/lib/python3.12/dist-packages (from pennylane) (0.7.2)\n",
            "Requirement already satisfied: cachetools in /usr/local/lib/python3.12/dist-packages (from pennylane) (5.5.2)\n",
            "Requirement already satisfied: pennylane-lightning>=0.42 in /usr/local/lib/python3.12/dist-packages (from pennylane) (0.42.0)\n",
            "Requirement already satisfied: requests in /usr/local/lib/python3.12/dist-packages (from pennylane) (2.32.4)\n",
            "Requirement already satisfied: tomlkit in /usr/local/lib/python3.12/dist-packages (from pennylane) (0.13.3)\n",
            "Requirement already satisfied: typing_extensions in /usr/local/lib/python3.12/dist-packages (from pennylane) (4.15.0)\n",
            "Requirement already satisfied: packaging in /usr/local/lib/python3.12/dist-packages (from pennylane) (25.0)\n",
            "Requirement already satisfied: diastatic-malt in /usr/local/lib/python3.12/dist-packages (from pennylane) (2.15.2)\n",
            "Requirement already satisfied: numpy in /usr/local/lib/python3.12/dist-packages (from pennylane) (2.0.2)\n",
            "Requirement already satisfied: scipy-openblas32>=0.3.26 in /usr/local/lib/python3.12/dist-packages (from pennylane-lightning>=0.42->pennylane) (0.3.30.0.2)\n",
            "Requirement already satisfied: astunparse in /usr/local/lib/python3.12/dist-packages (from diastatic-malt->pennylane) (1.6.3)\n",
            "Requirement already satisfied: gast in /usr/local/lib/python3.12/dist-packages (from diastatic-malt->pennylane) (0.6.0)\n",
            "Requirement already satisfied: termcolor in /usr/local/lib/python3.12/dist-packages (from diastatic-malt->pennylane) (3.1.0)\n",
            "Requirement already satisfied: charset_normalizer<4,>=2 in /usr/local/lib/python3.12/dist-packages (from requests->pennylane) (3.4.3)\n",
            "Requirement already satisfied: idna<4,>=2.5 in /usr/local/lib/python3.12/dist-packages (from requests->pennylane) (3.10)\n",
            "Requirement already satisfied: urllib3<3,>=1.21.1 in /usr/local/lib/python3.12/dist-packages (from requests->pennylane) (2.5.0)\n",
            "Requirement already satisfied: certifi>=2017.4.17 in /usr/local/lib/python3.12/dist-packages (from requests->pennylane) (2025.8.3)\n",
            "Requirement already satisfied: wheel<1.0,>=0.23.0 in /usr/local/lib/python3.12/dist-packages (from astunparse->diastatic-malt->pennylane) (0.45.1)\n",
            "Requirement already satisfied: six<2.0,>=1.6.1 in /usr/local/lib/python3.12/dist-packages (from astunparse->diastatic-malt->pennylane) (1.17.0)\n"
          ]
        }
      ]
    },
    {
      "cell_type": "markdown",
      "metadata": {
        "id": "58a94da9"
      },
      "source": [
        "**Reasoning**:\n",
        "Define the quantum circuit for the QNN, including data encoding, parameterized layers, and measurement.\n",
        "\n"
      ]
    },
    {
      "cell_type": "code",
      "metadata": {
        "id": "c7f27ef3"
      },
      "source": [
        "import pennylane as qml\n",
        "import pennylane.numpy as np\n",
        "\n",
        "n_qubits = X.shape[1] # This will be updated later based on padding\n",
        "dev = qml.device(\"default.qubit\", wires=n_qubits)\n",
        "\n",
        "@qml.qnode(dev)\n",
        "def quantum_circuit(inputs, weights):\n",
        "    qml.AmplitudeEmbedding(inputs, wires=range(n_qubits), normalize=True, pad_with=0.) # Add pad_with\n",
        "    qml.BasicEntanglerLayers(weights, wires=range(n_qubits))\n",
        "    return [qml.expval(qml.PauliZ(i)) for i in range(n_qubits)]\n",
        "\n",
        "# weight_shapes will be updated after determining the actual number of qubits needed after padding\n",
        "weight_shapes = {\"weights\": (2, n_qubits)}"
      ],
      "execution_count": null,
      "outputs": []
    },
    {
      "cell_type": "markdown",
      "metadata": {
        "id": "beb53e36"
      },
      "source": [
        "## Model definition\n",
        "\n",
        "### Subtask:\n",
        "Define the QNN model using a suitable framework (e.g., TensorFlow Quantum).\n"
      ]
    },
    {
      "cell_type": "markdown",
      "metadata": {
        "id": "21645317"
      },
      "source": [
        "**Reasoning**:\n",
        "Define the Keras model integrating the quantum circuit and compile it.\n",
        "\n"
      ]
    },
    {
      "cell_type": "markdown",
      "metadata": {
        "id": "ae044cd1"
      },
      "source": [
        "**Reasoning**:\n",
        "The Lambda layer wrapping the quantum circuit requires an explicit output shape. I will specify the output shape which is the number of qubits since the quantum circuit returns an expectation value for each qubit.\n",
        "\n"
      ]
    },
    {
      "cell_type": "code",
      "metadata": {
        "colab": {
          "base_uri": "https://localhost:8080/",
          "height": 225
        },
        "id": "UgRdguc0iVWK",
        "outputId": "435d7576-8a0f-4871-9cc2-80c13ede9720"
      },
      "source": [
        "import tensorflow as tf\n",
        "\n",
        "input_layer = tf.keras.layers.Input(shape=(n_qubits,))\n",
        "quantum_layer = tf.keras.layers.Lambda(lambda x: quantum_circuit(x, weights=tf.Variable(tf.random.normal(weight_shapes[\"weights\"]))), output_shape=(n_qubits,))(input_layer)\n",
        "output_layer = tf.keras.layers.Dense(len(label_encoder.classes_), activation='softmax')(quantum_layer)\n",
        "\n",
        "model = tf.keras.Model(inputs=input_layer, outputs=output_layer)\n",
        "\n",
        "model.compile(optimizer='adam',\n",
        "              loss='sparse_categorical_crossentropy',\n",
        "              metrics=['accuracy'])\n",
        "\n",
        "model.summary()"
      ],
      "execution_count": null,
      "outputs": [
        {
          "output_type": "display_data",
          "data": {
            "text/plain": [
              "\u001b[1mModel: \"functional_6\"\u001b[0m\n"
            ],
            "text/html": [
              "<pre style=\"white-space:pre;overflow-x:auto;line-height:normal;font-family:Menlo,'DejaVu Sans Mono',consolas,'Courier New',monospace\"><span style=\"font-weight: bold\">Model: \"functional_6\"</span>\n",
              "</pre>\n"
            ]
          },
          "metadata": {}
        },
        {
          "output_type": "display_data",
          "data": {
            "text/plain": [
              "┏━━━━━━━━━━━━━━━━━━━━━━━━━━━━━━━━━┳━━━━━━━━━━━━━━━━━━━━━━━━┳━━━━━━━━━━━━━━━┓\n",
              "┃\u001b[1m \u001b[0m\u001b[1mLayer (type)                   \u001b[0m\u001b[1m \u001b[0m┃\u001b[1m \u001b[0m\u001b[1mOutput Shape          \u001b[0m\u001b[1m \u001b[0m┃\u001b[1m \u001b[0m\u001b[1m      Param #\u001b[0m\u001b[1m \u001b[0m┃\n",
              "┡━━━━━━━━━━━━━━━━━━━━━━━━━━━━━━━━━╇━━━━━━━━━━━━━━━━━━━━━━━━╇━━━━━━━━━━━━━━━┩\n",
              "│ input_layer_12 (\u001b[38;5;33mInputLayer\u001b[0m)     │ (\u001b[38;5;45mNone\u001b[0m, \u001b[38;5;34m4\u001b[0m)              │             \u001b[38;5;34m0\u001b[0m │\n",
              "├─────────────────────────────────┼────────────────────────┼───────────────┤\n",
              "│ lambda_5 (\u001b[38;5;33mLambda\u001b[0m)               │ (\u001b[38;5;45mNone\u001b[0m, \u001b[38;5;34m4\u001b[0m)              │             \u001b[38;5;34m0\u001b[0m │\n",
              "├─────────────────────────────────┼────────────────────────┼───────────────┤\n",
              "│ dense_6 (\u001b[38;5;33mDense\u001b[0m)                 │ (\u001b[38;5;45mNone\u001b[0m, \u001b[38;5;34m9\u001b[0m)              │            \u001b[38;5;34m45\u001b[0m │\n",
              "└─────────────────────────────────┴────────────────────────┴───────────────┘\n"
            ],
            "text/html": [
              "<pre style=\"white-space:pre;overflow-x:auto;line-height:normal;font-family:Menlo,'DejaVu Sans Mono',consolas,'Courier New',monospace\">┏━━━━━━━━━━━━━━━━━━━━━━━━━━━━━━━━━┳━━━━━━━━━━━━━━━━━━━━━━━━┳━━━━━━━━━━━━━━━┓\n",
              "┃<span style=\"font-weight: bold\"> Layer (type)                    </span>┃<span style=\"font-weight: bold\"> Output Shape           </span>┃<span style=\"font-weight: bold\">       Param # </span>┃\n",
              "┡━━━━━━━━━━━━━━━━━━━━━━━━━━━━━━━━━╇━━━━━━━━━━━━━━━━━━━━━━━━╇━━━━━━━━━━━━━━━┩\n",
              "│ input_layer_12 (<span style=\"color: #0087ff; text-decoration-color: #0087ff\">InputLayer</span>)     │ (<span style=\"color: #00d7ff; text-decoration-color: #00d7ff\">None</span>, <span style=\"color: #00af00; text-decoration-color: #00af00\">4</span>)              │             <span style=\"color: #00af00; text-decoration-color: #00af00\">0</span> │\n",
              "├─────────────────────────────────┼────────────────────────┼───────────────┤\n",
              "│ lambda_5 (<span style=\"color: #0087ff; text-decoration-color: #0087ff\">Lambda</span>)               │ (<span style=\"color: #00d7ff; text-decoration-color: #00d7ff\">None</span>, <span style=\"color: #00af00; text-decoration-color: #00af00\">4</span>)              │             <span style=\"color: #00af00; text-decoration-color: #00af00\">0</span> │\n",
              "├─────────────────────────────────┼────────────────────────┼───────────────┤\n",
              "│ dense_6 (<span style=\"color: #0087ff; text-decoration-color: #0087ff\">Dense</span>)                 │ (<span style=\"color: #00d7ff; text-decoration-color: #00d7ff\">None</span>, <span style=\"color: #00af00; text-decoration-color: #00af00\">9</span>)              │            <span style=\"color: #00af00; text-decoration-color: #00af00\">45</span> │\n",
              "└─────────────────────────────────┴────────────────────────┴───────────────┘\n",
              "</pre>\n"
            ]
          },
          "metadata": {}
        },
        {
          "output_type": "display_data",
          "data": {
            "text/plain": [
              "\u001b[1m Total params: \u001b[0m\u001b[38;5;34m45\u001b[0m (180.00 B)\n"
            ],
            "text/html": [
              "<pre style=\"white-space:pre;overflow-x:auto;line-height:normal;font-family:Menlo,'DejaVu Sans Mono',consolas,'Courier New',monospace\"><span style=\"font-weight: bold\"> Total params: </span><span style=\"color: #00af00; text-decoration-color: #00af00\">45</span> (180.00 B)\n",
              "</pre>\n"
            ]
          },
          "metadata": {}
        },
        {
          "output_type": "display_data",
          "data": {
            "text/plain": [
              "\u001b[1m Trainable params: \u001b[0m\u001b[38;5;34m45\u001b[0m (180.00 B)\n"
            ],
            "text/html": [
              "<pre style=\"white-space:pre;overflow-x:auto;line-height:normal;font-family:Menlo,'DejaVu Sans Mono',consolas,'Courier New',monospace\"><span style=\"font-weight: bold\"> Trainable params: </span><span style=\"color: #00af00; text-decoration-color: #00af00\">45</span> (180.00 B)\n",
              "</pre>\n"
            ]
          },
          "metadata": {}
        },
        {
          "output_type": "display_data",
          "data": {
            "text/plain": [
              "\u001b[1m Non-trainable params: \u001b[0m\u001b[38;5;34m0\u001b[0m (0.00 B)\n"
            ],
            "text/html": [
              "<pre style=\"white-space:pre;overflow-x:auto;line-height:normal;font-family:Menlo,'DejaVu Sans Mono',consolas,'Courier New',monospace\"><span style=\"font-weight: bold\"> Non-trainable params: </span><span style=\"color: #00af00; text-decoration-color: #00af00\">0</span> (0.00 B)\n",
              "</pre>\n"
            ]
          },
          "metadata": {}
        }
      ]
    },
    {
      "cell_type": "markdown",
      "metadata": {
        "id": "d58a7317"
      },
      "source": [
        "## Model training\n",
        "\n",
        "### Subtask:\n",
        "Train the QNN model on the preprocessed data.\n"
      ]
    },
    {
      "cell_type": "markdown",
      "metadata": {
        "id": "8e2ce974"
      },
      "source": [
        "**Reasoning**:\n",
        "Train the QNN model using the fit method with the specified epochs and batch size, and store the history.\n",
        "\n"
      ]
    },
    {
      "cell_type": "markdown",
      "metadata": {
        "id": "03798391"
      },
      "source": [
        "# Task\n",
        "Explain the error in the selected code, fix it, and train a QNN on a subset of the data."
      ]
    },
    {
      "cell_type": "markdown",
      "metadata": {
        "id": "d952cedd"
      },
      "source": [
        "## Define custom keras layer\n",
        "\n",
        "### Subtask:\n",
        "Create a custom Keras Layer that encapsulates the PennyLane quantum circuit. This layer will handle the padding and the execution of the quantum circuit for batched inputs.\n"
      ]
    },
    {
      "cell_type": "markdown",
      "metadata": {
        "id": "f5b584b5"
      },
      "source": [
        "**Reasoning**:\n",
        "Define a custom Keras Layer to encapsulate the PennyLane quantum circuit, handling padding and batch processing as per the instructions.\n",
        "\n"
      ]
    },
    {
      "cell_type": "code",
      "metadata": {
        "id": "065d6aa9"
      },
      "source": [
        "import tensorflow as tf\n",
        "from keras.layers import Layer\n",
        "\n",
        "class QuantumCircuitLayer(Layer):\n",
        "    def __init__(self, quantum_circuit, padding_size, **kwargs):\n",
        "        super(QuantumCircuitLayer, self).__init__(**kwargs)\n",
        "        self.quantum_circuit = quantum_circuit\n",
        "        self.padding_size = padding_size\n",
        "\n",
        "    def build(self, input_shape):\n",
        "        self.qnn_weights = self.add_weight(\n",
        "            shape=(2, self.quantum_circuit.num_wires),\n",
        "            initializer=tf.random_normal_initializer(),\n",
        "            trainable=True,\n",
        "            name=\"qnn_weights\"\n",
        "        )\n",
        "        super(QuantumCircuitLayer, self).build(input_shape)\n",
        "\n",
        "    def call(self, inputs):\n",
        "        padded_inputs = tf.pad(inputs, [[0, 0], [0, self.padding_size]])\n",
        "        return tf.vectorized_map(lambda x: self.quantum_circuit(x, weights=self.qnn_weights), padded_inputs)\n",
        "\n",
        "    def compute_output_shape(self, input_shape):\n",
        "        return (input_shape[0], self.quantum_circuit.num_wires)"
      ],
      "execution_count": null,
      "outputs": []
    },
    {
      "cell_type": "markdown",
      "metadata": {
        "id": "f6250798"
      },
      "source": [
        "**Reasoning**:\n",
        "The custom Keras layer has been defined. Now, integrate this custom layer into the Keras model architecture and compile the model. This addresses the next steps in building the QNN model.\n",
        "\n"
      ]
    },
    {
      "cell_type": "markdown",
      "metadata": {
        "id": "b8a9d404"
      },
      "source": [
        "**Reasoning**:\n",
        "The error indicates that the `QNode` object does not have a `num_wires` attribute. The number of wires (qubits) is determined by the PennyLane device associated with the QNode. The custom layer needs to access the number of wires from the device. I will fix the custom layer to get the number of wires from the QNode's device and rebuild the model with the corrected layer.\n",
        "\n"
      ]
    },
    {
      "cell_type": "markdown",
      "metadata": {
        "id": "f6771ddd"
      },
      "source": [
        "**Reasoning**:\n",
        "The error indicates that `quantum_circuit.device` does not have a `num_wires` attribute in the current PennyLane API. The number of wires should be accessed directly from the device object, which is available through the QNode's device attribute. I will fix the custom layer to access `num_wires` correctly from `self.quantum_circuit.device`.\n",
        "\n"
      ]
    },
    {
      "cell_type": "markdown",
      "metadata": {
        "id": "8aa5b6d3"
      },
      "source": [
        "**Reasoning**:\n",
        "The error persists, indicating that `quantum_circuit.device.num_wires` is still not the correct way to access the number of wires in the current PennyLane version. Based on the error message suggesting consulting the `DefaultQubit` documentation, the number of wires should be accessed using the `wires` attribute of the device. I will modify the custom layer to access the number of wires using `self.quantum_circuit.device.wires`.\n",
        "\n"
      ]
    },
    {
      "cell_type": "code",
      "metadata": {
        "colab": {
          "base_uri": "https://localhost:8080/",
          "height": 241
        },
        "id": "qNzsapDOvdWj",
        "outputId": "a1e609c9-a094-4235-da95-6e893576fbe8"
      },
      "source": [
        "# Fix the custom Keras Layer to get num_wires from the QNode's device correctly using .wires\n",
        "class QuantumCircuitLayer(Layer):\n",
        "    def __init__(self, quantum_circuit, padding_size, **kwargs):\n",
        "        super(QuantumCircuitLayer, self).__init__(**kwargs)\n",
        "        self.quantum_circuit = quantum_circuit\n",
        "        self.padding_size = padding_size\n",
        "        # Access the number of wires from the device attribute of the QNode using .wires\n",
        "        self.num_wires = len(self.quantum_circuit.device.wires)\n",
        "\n",
        "    def build(self, input_shape):\n",
        "        self.qnn_weights = self.add_weight(\n",
        "            shape=(2, self.num_wires),\n",
        "            initializer=tf.random_normal_initializer(),\n",
        "            trainable=True,\n",
        "            name=\"qnn_weights\"\n",
        "        )\n",
        "        super(QuantumCircuitLayer, self).build(input_shape)\n",
        "\n",
        "    def call(self, inputs):\n",
        "        padded_inputs = tf.pad(inputs, [[0, 0], [0, self.padding_size]])\n",
        "        return tf.vectorized_map(lambda x: self.quantum_circuit(x, weights=self.qnn_weights), padded_inputs)\n",
        "\n",
        "    def compute_output_shape(self, input_shape):\n",
        "        return (input_shape[0], self.num_wires)\n",
        "\n",
        "# Redefine the quantum circuit without pad_with, as padding is handled by the custom layer\n",
        "# The number of qubits is already calculated and updated in the previous step\n",
        "# dev and quantum_circuit are also updated in the previous step\n",
        "\n",
        "input_layer = tf.keras.layers.Input(shape=(X.shape[1],))\n",
        "quantum_layer = QuantumCircuitLayer(quantum_circuit, padding_size)(input_layer)\n",
        "output_layer = tf.keras.layers.Dense(len(label_encoder.classes_), activation='softmax')(quantum_layer)\n",
        "\n",
        "model = tf.keras.Model(inputs=input_layer, outputs=output_layer)\n",
        "\n",
        "model.compile(optimizer='adam',\n",
        "              loss='sparse_categorical_crossentropy',\n",
        "              metrics=['accuracy'])\n",
        "\n",
        "model.summary()"
      ],
      "execution_count": null,
      "outputs": [
        {
          "output_type": "display_data",
          "data": {
            "text/plain": [
              "\u001b[1mModel: \"functional_9\"\u001b[0m\n"
            ],
            "text/html": [
              "<pre style=\"white-space:pre;overflow-x:auto;line-height:normal;font-family:Menlo,'DejaVu Sans Mono',consolas,'Courier New',monospace\"><span style=\"font-weight: bold\">Model: \"functional_9\"</span>\n",
              "</pre>\n"
            ]
          },
          "metadata": {}
        },
        {
          "output_type": "display_data",
          "data": {
            "text/plain": [
              "┏━━━━━━━━━━━━━━━━━━━━━━━━━━━━━━━━━┳━━━━━━━━━━━━━━━━━━━━━━━━┳━━━━━━━━━━━━━━━┓\n",
              "┃\u001b[1m \u001b[0m\u001b[1mLayer (type)                   \u001b[0m\u001b[1m \u001b[0m┃\u001b[1m \u001b[0m\u001b[1mOutput Shape          \u001b[0m\u001b[1m \u001b[0m┃\u001b[1m \u001b[0m\u001b[1m      Param #\u001b[0m\u001b[1m \u001b[0m┃\n",
              "┡━━━━━━━━━━━━━━━━━━━━━━━━━━━━━━━━━╇━━━━━━━━━━━━━━━━━━━━━━━━╇━━━━━━━━━━━━━━━┩\n",
              "│ input_layer_15 (\u001b[38;5;33mInputLayer\u001b[0m)     │ (\u001b[38;5;45mNone\u001b[0m, \u001b[38;5;34m4\u001b[0m)              │             \u001b[38;5;34m0\u001b[0m │\n",
              "├─────────────────────────────────┼────────────────────────┼───────────────┤\n",
              "│ quantum_circuit_layer_5         │ (\u001b[38;5;45mNone\u001b[0m, \u001b[38;5;34m4\u001b[0m)              │             \u001b[38;5;34m8\u001b[0m │\n",
              "│ (\u001b[38;5;33mQuantumCircuitLayer\u001b[0m)           │                        │               │\n",
              "├─────────────────────────────────┼────────────────────────┼───────────────┤\n",
              "│ dense_9 (\u001b[38;5;33mDense\u001b[0m)                 │ (\u001b[38;5;45mNone\u001b[0m, \u001b[38;5;34m9\u001b[0m)              │            \u001b[38;5;34m45\u001b[0m │\n",
              "└─────────────────────────────────┴────────────────────────┴───────────────┘\n"
            ],
            "text/html": [
              "<pre style=\"white-space:pre;overflow-x:auto;line-height:normal;font-family:Menlo,'DejaVu Sans Mono',consolas,'Courier New',monospace\">┏━━━━━━━━━━━━━━━━━━━━━━━━━━━━━━━━━┳━━━━━━━━━━━━━━━━━━━━━━━━┳━━━━━━━━━━━━━━━┓\n",
              "┃<span style=\"font-weight: bold\"> Layer (type)                    </span>┃<span style=\"font-weight: bold\"> Output Shape           </span>┃<span style=\"font-weight: bold\">       Param # </span>┃\n",
              "┡━━━━━━━━━━━━━━━━━━━━━━━━━━━━━━━━━╇━━━━━━━━━━━━━━━━━━━━━━━━╇━━━━━━━━━━━━━━━┩\n",
              "│ input_layer_15 (<span style=\"color: #0087ff; text-decoration-color: #0087ff\">InputLayer</span>)     │ (<span style=\"color: #00d7ff; text-decoration-color: #00d7ff\">None</span>, <span style=\"color: #00af00; text-decoration-color: #00af00\">4</span>)              │             <span style=\"color: #00af00; text-decoration-color: #00af00\">0</span> │\n",
              "├─────────────────────────────────┼────────────────────────┼───────────────┤\n",
              "│ quantum_circuit_layer_5         │ (<span style=\"color: #00d7ff; text-decoration-color: #00d7ff\">None</span>, <span style=\"color: #00af00; text-decoration-color: #00af00\">4</span>)              │             <span style=\"color: #00af00; text-decoration-color: #00af00\">8</span> │\n",
              "│ (<span style=\"color: #0087ff; text-decoration-color: #0087ff\">QuantumCircuitLayer</span>)           │                        │               │\n",
              "├─────────────────────────────────┼────────────────────────┼───────────────┤\n",
              "│ dense_9 (<span style=\"color: #0087ff; text-decoration-color: #0087ff\">Dense</span>)                 │ (<span style=\"color: #00d7ff; text-decoration-color: #00d7ff\">None</span>, <span style=\"color: #00af00; text-decoration-color: #00af00\">9</span>)              │            <span style=\"color: #00af00; text-decoration-color: #00af00\">45</span> │\n",
              "└─────────────────────────────────┴────────────────────────┴───────────────┘\n",
              "</pre>\n"
            ]
          },
          "metadata": {}
        },
        {
          "output_type": "display_data",
          "data": {
            "text/plain": [
              "\u001b[1m Total params: \u001b[0m\u001b[38;5;34m53\u001b[0m (212.00 B)\n"
            ],
            "text/html": [
              "<pre style=\"white-space:pre;overflow-x:auto;line-height:normal;font-family:Menlo,'DejaVu Sans Mono',consolas,'Courier New',monospace\"><span style=\"font-weight: bold\"> Total params: </span><span style=\"color: #00af00; text-decoration-color: #00af00\">53</span> (212.00 B)\n",
              "</pre>\n"
            ]
          },
          "metadata": {}
        },
        {
          "output_type": "display_data",
          "data": {
            "text/plain": [
              "\u001b[1m Trainable params: \u001b[0m\u001b[38;5;34m53\u001b[0m (212.00 B)\n"
            ],
            "text/html": [
              "<pre style=\"white-space:pre;overflow-x:auto;line-height:normal;font-family:Menlo,'DejaVu Sans Mono',consolas,'Courier New',monospace\"><span style=\"font-weight: bold\"> Trainable params: </span><span style=\"color: #00af00; text-decoration-color: #00af00\">53</span> (212.00 B)\n",
              "</pre>\n"
            ]
          },
          "metadata": {}
        },
        {
          "output_type": "display_data",
          "data": {
            "text/plain": [
              "\u001b[1m Non-trainable params: \u001b[0m\u001b[38;5;34m0\u001b[0m (0.00 B)\n"
            ],
            "text/html": [
              "<pre style=\"white-space:pre;overflow-x:auto;line-height:normal;font-family:Menlo,'DejaVu Sans Mono',consolas,'Courier New',monospace\"><span style=\"font-weight: bold\"> Non-trainable params: </span><span style=\"color: #00af00; text-decoration-color: #00af00\">0</span> (0.00 B)\n",
              "</pre>\n"
            ]
          },
          "metadata": {}
        }
      ]
    },
    {
      "cell_type": "code",
      "metadata": {
        "colab": {
          "base_uri": "https://localhost:8080/",
          "height": 241
        },
        "outputId": "3abb1d16-46d1-4883-89d7-c94da6bff439",
        "id": "y9FoWphyzkq1"
      },
      "source": [
        "import math\n",
        "import tensorflow as tf\n",
        "from keras.layers import Layer\n",
        "import pennylane as qml\n",
        "\n",
        "\n",
        "# Fix the custom Keras Layer to get num_wires from the QNode's device correctly using .wires\n",
        "class QuantumCircuitLayer(Layer):\n",
        "    def __init__(self, quantum_circuit, padding_size, **kwargs):\n",
        "        super(QuantumCircuitLayer, self).__init__(**kwargs)\n",
        "        self.quantum_circuit = quantum_circuit\n",
        "        self.padding_size = padding_size\n",
        "        # Access the number of wires from the device attribute of the QNode using .wires\n",
        "        self.num_wires = len(self.quantum_circuit.device.wires)\n",
        "\n",
        "    def build(self, input_shape):\n",
        "        self.qnn_weights = self.add_weight(\n",
        "            shape=(2, self.num_wires),\n",
        "            initializer=tf.random_normal_initializer(),\n",
        "            trainable=True,\n",
        "            name=\"qnn_weights\"\n",
        "        )\n",
        "        super(QuantumCircuitLayer, self).build(input_shape)\n",
        "\n",
        "    def call(self, inputs):\n",
        "        padded_inputs = tf.pad(inputs, [[0, 0], [0, self.padding_size]])\n",
        "        return tf.vectorized_map(lambda x: self.quantum_circuit(x, weights=self.qnn_weights), padded_inputs)\n",
        "\n",
        "    def compute_output_shape(self, input_shape):\n",
        "        return (input_shape[0], self.num_wires)\n",
        "\n",
        "# Redefine the quantum circuit without pad_with, as padding is handled by the custom layer\n",
        "# The number of qubits is already calculated and updated in the previous step\n",
        "# dev and quantum_circuit are also updated in the previous step\n",
        "\n",
        "# Calculate n_qubits and padding_size\n",
        "n_qubits = int(math.ceil(math.log2(X.shape[1])))\n",
        "padding_size = 2**n_qubits - X.shape[1]\n",
        "\n",
        "# Define the PennyLane device with the calculated number of qubits\n",
        "dev = qml.device(\"default.qubit\", wires=n_qubits)\n",
        "\n",
        "# Define the quantum circuit with the device\n",
        "@qml.qnode(dev, interface=\"tensorflow\")\n",
        "def quantum_circuit(inputs, weights):\n",
        "    qml.AmplitudeEmbedding(inputs, wires=range(n_qubits))\n",
        "    qml.BasicEntanglerLayers(weights, wires=range(n_qubits))\n",
        "    return [qml.expval(qml.PauliZ(i)) for i in range(n_qubits)]\n",
        "\n",
        "\n",
        "input_layer = tf.keras.layers.Input(shape=(X.shape[1],))\n",
        "quantum_layer = QuantumCircuitLayer(quantum_circuit, padding_size)(input_layer)\n",
        "output_layer = tf.keras.layers.Dense(len(label_encoder.classes_), activation='softmax')(quantum_layer)\n",
        "\n",
        "model = tf.keras.Model(inputs=input_layer, outputs=output_layer)\n",
        "\n",
        "model.compile(optimizer='adam',\n",
        "              loss='sparse_categorical_crossentropy',\n",
        "              metrics=['accuracy'])\n",
        "\n",
        "model.summary()"
      ],
      "execution_count": null,
      "outputs": [
        {
          "output_type": "display_data",
          "data": {
            "text/plain": [
              "\u001b[1mModel: \"functional_10\"\u001b[0m\n"
            ],
            "text/html": [
              "<pre style=\"white-space:pre;overflow-x:auto;line-height:normal;font-family:Menlo,'DejaVu Sans Mono',consolas,'Courier New',monospace\"><span style=\"font-weight: bold\">Model: \"functional_10\"</span>\n",
              "</pre>\n"
            ]
          },
          "metadata": {}
        },
        {
          "output_type": "display_data",
          "data": {
            "text/plain": [
              "┏━━━━━━━━━━━━━━━━━━━━━━━━━━━━━━━━━┳━━━━━━━━━━━━━━━━━━━━━━━━┳━━━━━━━━━━━━━━━┓\n",
              "┃\u001b[1m \u001b[0m\u001b[1mLayer (type)                   \u001b[0m\u001b[1m \u001b[0m┃\u001b[1m \u001b[0m\u001b[1mOutput Shape          \u001b[0m\u001b[1m \u001b[0m┃\u001b[1m \u001b[0m\u001b[1m      Param #\u001b[0m\u001b[1m \u001b[0m┃\n",
              "┡━━━━━━━━━━━━━━━━━━━━━━━━━━━━━━━━━╇━━━━━━━━━━━━━━━━━━━━━━━━╇━━━━━━━━━━━━━━━┩\n",
              "│ input_layer_16 (\u001b[38;5;33mInputLayer\u001b[0m)     │ (\u001b[38;5;45mNone\u001b[0m, \u001b[38;5;34m4\u001b[0m)              │             \u001b[38;5;34m0\u001b[0m │\n",
              "├─────────────────────────────────┼────────────────────────┼───────────────┤\n",
              "│ quantum_circuit_layer_6         │ (\u001b[38;5;45mNone\u001b[0m, \u001b[38;5;34m2\u001b[0m)              │             \u001b[38;5;34m4\u001b[0m │\n",
              "│ (\u001b[38;5;33mQuantumCircuitLayer\u001b[0m)           │                        │               │\n",
              "├─────────────────────────────────┼────────────────────────┼───────────────┤\n",
              "│ dense_10 (\u001b[38;5;33mDense\u001b[0m)                │ (\u001b[38;5;45mNone\u001b[0m, \u001b[38;5;34m9\u001b[0m)              │            \u001b[38;5;34m27\u001b[0m │\n",
              "└─────────────────────────────────┴────────────────────────┴───────────────┘\n"
            ],
            "text/html": [
              "<pre style=\"white-space:pre;overflow-x:auto;line-height:normal;font-family:Menlo,'DejaVu Sans Mono',consolas,'Courier New',monospace\">┏━━━━━━━━━━━━━━━━━━━━━━━━━━━━━━━━━┳━━━━━━━━━━━━━━━━━━━━━━━━┳━━━━━━━━━━━━━━━┓\n",
              "┃<span style=\"font-weight: bold\"> Layer (type)                    </span>┃<span style=\"font-weight: bold\"> Output Shape           </span>┃<span style=\"font-weight: bold\">       Param # </span>┃\n",
              "┡━━━━━━━━━━━━━━━━━━━━━━━━━━━━━━━━━╇━━━━━━━━━━━━━━━━━━━━━━━━╇━━━━━━━━━━━━━━━┩\n",
              "│ input_layer_16 (<span style=\"color: #0087ff; text-decoration-color: #0087ff\">InputLayer</span>)     │ (<span style=\"color: #00d7ff; text-decoration-color: #00d7ff\">None</span>, <span style=\"color: #00af00; text-decoration-color: #00af00\">4</span>)              │             <span style=\"color: #00af00; text-decoration-color: #00af00\">0</span> │\n",
              "├─────────────────────────────────┼────────────────────────┼───────────────┤\n",
              "│ quantum_circuit_layer_6         │ (<span style=\"color: #00d7ff; text-decoration-color: #00d7ff\">None</span>, <span style=\"color: #00af00; text-decoration-color: #00af00\">2</span>)              │             <span style=\"color: #00af00; text-decoration-color: #00af00\">4</span> │\n",
              "│ (<span style=\"color: #0087ff; text-decoration-color: #0087ff\">QuantumCircuitLayer</span>)           │                        │               │\n",
              "├─────────────────────────────────┼────────────────────────┼───────────────┤\n",
              "│ dense_10 (<span style=\"color: #0087ff; text-decoration-color: #0087ff\">Dense</span>)                │ (<span style=\"color: #00d7ff; text-decoration-color: #00d7ff\">None</span>, <span style=\"color: #00af00; text-decoration-color: #00af00\">9</span>)              │            <span style=\"color: #00af00; text-decoration-color: #00af00\">27</span> │\n",
              "└─────────────────────────────────┴────────────────────────┴───────────────┘\n",
              "</pre>\n"
            ]
          },
          "metadata": {}
        },
        {
          "output_type": "display_data",
          "data": {
            "text/plain": [
              "\u001b[1m Total params: \u001b[0m\u001b[38;5;34m31\u001b[0m (124.00 B)\n"
            ],
            "text/html": [
              "<pre style=\"white-space:pre;overflow-x:auto;line-height:normal;font-family:Menlo,'DejaVu Sans Mono',consolas,'Courier New',monospace\"><span style=\"font-weight: bold\"> Total params: </span><span style=\"color: #00af00; text-decoration-color: #00af00\">31</span> (124.00 B)\n",
              "</pre>\n"
            ]
          },
          "metadata": {}
        },
        {
          "output_type": "display_data",
          "data": {
            "text/plain": [
              "\u001b[1m Trainable params: \u001b[0m\u001b[38;5;34m31\u001b[0m (124.00 B)\n"
            ],
            "text/html": [
              "<pre style=\"white-space:pre;overflow-x:auto;line-height:normal;font-family:Menlo,'DejaVu Sans Mono',consolas,'Courier New',monospace\"><span style=\"font-weight: bold\"> Trainable params: </span><span style=\"color: #00af00; text-decoration-color: #00af00\">31</span> (124.00 B)\n",
              "</pre>\n"
            ]
          },
          "metadata": {}
        },
        {
          "output_type": "display_data",
          "data": {
            "text/plain": [
              "\u001b[1m Non-trainable params: \u001b[0m\u001b[38;5;34m0\u001b[0m (0.00 B)\n"
            ],
            "text/html": [
              "<pre style=\"white-space:pre;overflow-x:auto;line-height:normal;font-family:Menlo,'DejaVu Sans Mono',consolas,'Courier New',monospace\"><span style=\"font-weight: bold\"> Non-trainable params: </span><span style=\"color: #00af00; text-decoration-color: #00af00\">0</span> (0.00 B)\n",
              "</pre>\n"
            ]
          },
          "metadata": {}
        }
      ]
    },
    {
      "cell_type": "markdown",
      "metadata": {
        "id": "c444fd5b"
      },
      "source": [
        "**Reasoning**:\n",
        "The custom Keras Layer has been successfully defined and integrated into the model. The next step is to train the model using the preprocessed data.\n",
        "\n"
      ]
    },
    {
      "cell_type": "markdown",
      "metadata": {
        "id": "c1ede625"
      },
      "source": [
        "**Reasoning**:\n",
        "The error \"autoray couldn't find function 'asarray' for backend 'keras'\" indicates an issue with how PennyLane's `autoray` library interacts with TensorFlow/Keras when handling the weights within the `BasicEntanglerLayers`. This often happens when the weights are not properly recognized as TensorFlow tensors within the QNode. I will ensure the weights are explicitly converted to TensorFlow tensors before being passed to the `BasicEntanglerLayers` within the QNode definition and then attempt to train the model again.\n",
        "\n"
      ]
    },
    {
      "cell_type": "markdown",
      "metadata": {
        "id": "193b7f28"
      },
      "source": [
        "**Reasoning**:\n",
        "The error message \"Input 0 of layer \"dense_8\" is incompatible with the layer: expected min_ndim=2, found ndim=1. Full shape received: (None,)\" indicates that the output of the quantum layer is not in the expected shape for the dense layer. The dense layer expects a 2D input (batch_size, features), but it is receiving a 1D input. This is likely due to the `tf.vectorized_map` returning a tensor with an unexpected shape. I need to reshape the output of the `tf.vectorized_map` within the `call` method of the custom layer to ensure it is a 2D tensor of shape (batch_size, num_wires).\n",
        "\n"
      ]
    },
    {
      "cell_type": "code",
      "source": [
        "!pip install silence_tensorflow"
      ],
      "metadata": {
        "colab": {
          "base_uri": "https://localhost:8080/"
        },
        "id": "gKMa8F6d5OAx",
        "outputId": "c3fd5da1-82f5-4461-d12b-d3207cfe5220"
      },
      "execution_count": null,
      "outputs": [
        {
          "output_type": "stream",
          "name": "stdout",
          "text": [
            "Requirement already satisfied: silence_tensorflow in /usr/local/lib/python3.12/dist-packages (1.2.3)\n"
          ]
        }
      ]
    },
    {
      "cell_type": "code",
      "metadata": {
        "colab": {
          "base_uri": "https://localhost:8080/"
        },
        "id": "mglRnBG4vm5_",
        "outputId": "454e7a5b-392b-44d5-dd02-848ceefdddf8"
      },
      "source": [
        "from silence_tensorflow import silence_tensorflow\n",
        "silence_tensorflow()\n",
        "\n",
        "# Fix the custom Keras Layer to ensure the output shape is 2D\n",
        "class QuantumCircuitLayer(Layer):\n",
        "    def __init__(self, quantum_circuit, padding_size, **kwargs):\n",
        "        super(QuantumCircuitLayer, self).__init__(**kwargs)\n",
        "        self.quantum_circuit = quantum_circuit\n",
        "        self.padding_size = padding_size\n",
        "        self.num_wires = len(self.quantum_circuit.device.wires)\n",
        "\n",
        "    def build(self, input_shape):\n",
        "        self.qnn_weights = self.add_weight(\n",
        "            shape=(2, self.num_wires),\n",
        "            initializer=tf.random_normal_initializer(),\n",
        "            trainable=True,\n",
        "            name=\"qnn_weights\"\n",
        "        )\n",
        "        super(QuantumCircuitLayer, self).build(input_shape)\n",
        "\n",
        "    def call(self, inputs):\n",
        "        padded_inputs = tf.pad(inputs, [[0, 0], [0, self.padding_size]])\n",
        "        # Reshape the output of vectorized_map to be 2D (batch_size, num_wires)\n",
        "        quantum_output = tf.vectorized_map(lambda x: self.quantum_circuit(x, weights=self.qnn_weights), padded_inputs)\n",
        "        return tf.reshape(quantum_output, [-1, self.num_wires])\n",
        "\n",
        "    def compute_output_shape(self, input_shape):\n",
        "        return (input_shape[0], self.num_wires)\n",
        "\n",
        "# Redefine the quantum circuit (no changes needed here from the previous step)\n",
        "@qml.qnode(dev, interface=\"tensorflow\")\n",
        "def quantum_circuit(inputs, weights):\n",
        "    weights_tf = tf.dtypes.cast(weights, tf.float64)#tf.cast(weights, tf.float32)\n",
        "    qml.AmplitudeEmbedding(inputs, wires=range(n_qubits))\n",
        "    qml.BasicEntanglerLayers(weights_tf, wires=range(n_qubits))\n",
        "    return [qml.expval(qml.PauliZ(i)) for i in range(n_qubits)]\n",
        "\n",
        "# Rebuild the model with the corrected custom layer\n",
        "input_layer = tf.keras.layers.Input(shape=(X.shape[1],))\n",
        "quantum_layer = QuantumCircuitLayer(quantum_circuit, padding_size)(input_layer)\n",
        "output_layer = tf.keras.layers.Dense(len(label_encoder.classes_), activation='softmax')(quantum_layer)\n",
        "\n",
        "model = tf.keras.Model(inputs=input_layer, outputs=output_layer)\n",
        "\n",
        "model.compile(optimizer='adam',\n",
        "              loss='sparse_categorical_crossentropy',\n",
        "              metrics=['accuracy'])\n",
        "\n",
        "# Train the model\n",
        "history = model.fit(X, y, epochs=10, batch_size=32)\n",
        "\n",
        "# Print the history\n",
        "print(history)"
      ],
      "execution_count": null,
      "outputs": [
        {
          "output_type": "stream",
          "name": "stdout",
          "text": [
            "Epoch 1/10\n",
            "\u001b[1m10747/10747\u001b[0m \u001b[32m━━━━━━━━━━━━━━━━━━━━\u001b[0m\u001b[37m\u001b[0m \u001b[1m53s\u001b[0m 4ms/step - accuracy: 0.2707 - loss: 2.5109\n",
            "Epoch 2/10\n",
            "\u001b[1m10747/10747\u001b[0m \u001b[32m━━━━━━━━━━━━━━━━━━━━\u001b[0m\u001b[37m\u001b[0m \u001b[1m72s\u001b[0m 3ms/step - accuracy: 0.2835 - loss: 1.6215\n",
            "Epoch 3/10\n",
            "\u001b[1m10747/10747\u001b[0m \u001b[32m━━━━━━━━━━━━━━━━━━━━\u001b[0m\u001b[37m\u001b[0m \u001b[1m36s\u001b[0m 3ms/step - accuracy: 0.2857 - loss: 1.6088\n",
            "Epoch 4/10\n",
            "\u001b[1m10747/10747\u001b[0m \u001b[32m━━━━━━━━━━━━━━━━━━━━\u001b[0m\u001b[37m\u001b[0m \u001b[1m32s\u001b[0m 3ms/step - accuracy: 0.2851 - loss: 1.6086\n",
            "Epoch 5/10\n",
            "\u001b[1m10747/10747\u001b[0m \u001b[32m━━━━━━━━━━━━━━━━━━━━\u001b[0m\u001b[37m\u001b[0m \u001b[1m31s\u001b[0m 3ms/step - accuracy: 0.2843 - loss: 1.6080\n",
            "Epoch 6/10\n",
            "\u001b[1m10747/10747\u001b[0m \u001b[32m━━━━━━━━━━━━━━━━━━━━\u001b[0m\u001b[37m\u001b[0m \u001b[1m30s\u001b[0m 3ms/step - accuracy: 0.2838 - loss: 1.6078\n",
            "Epoch 7/10\n",
            "\u001b[1m10747/10747\u001b[0m \u001b[32m━━━━━━━━━━━━━━━━━━━━\u001b[0m\u001b[37m\u001b[0m \u001b[1m29s\u001b[0m 3ms/step - accuracy: 0.2851 - loss: 1.6083\n",
            "Epoch 8/10\n",
            "\u001b[1m10747/10747\u001b[0m \u001b[32m━━━━━━━━━━━━━━━━━━━━\u001b[0m\u001b[37m\u001b[0m \u001b[1m30s\u001b[0m 3ms/step - accuracy: 0.2851 - loss: 1.6060\n",
            "Epoch 9/10\n",
            "\u001b[1m10747/10747\u001b[0m \u001b[32m━━━━━━━━━━━━━━━━━━━━\u001b[0m\u001b[37m\u001b[0m \u001b[1m31s\u001b[0m 3ms/step - accuracy: 0.2863 - loss: 1.6050\n",
            "Epoch 10/10\n",
            "\u001b[1m10747/10747\u001b[0m \u001b[32m━━━━━━━━━━━━━━━━━━━━\u001b[0m\u001b[37m\u001b[0m \u001b[1m31s\u001b[0m 3ms/step - accuracy: 0.2855 - loss: 1.6064\n",
            "<keras.src.callbacks.history.History object at 0x7ff2f618f530>\n"
          ]
        }
      ]
    },
    {
      "cell_type": "markdown",
      "metadata": {
        "id": "d3679987"
      },
      "source": [
        "## Model training\n",
        "\n",
        "### Subtask:\n",
        "Train the updated QNN model with the custom layer.\n"
      ]
    },
    {
      "cell_type": "markdown",
      "metadata": {
        "id": "30a61b45"
      },
      "source": [
        "**Reasoning**:\n",
        "Train the updated QNN model with the custom layer.\n",
        "\n"
      ]
    },
    {
      "cell_type": "code",
      "metadata": {
        "colab": {
          "base_uri": "https://localhost:8080/"
        },
        "id": "f31f4d49",
        "outputId": "3ea1f386-7225-4496-8d5c-1cec368d3f00"
      },
      "source": [
        "# Train the model\n",
        "history = model.fit(X, y, epochs=10, batch_size=32)\n",
        "\n",
        "# Print the history\n",
        "print(history)"
      ],
      "execution_count": null,
      "outputs": [
        {
          "output_type": "stream",
          "name": "stdout",
          "text": [
            "Epoch 1/10\n",
            "\u001b[1m10747/10747\u001b[0m \u001b[32m━━━━━━━━━━━━━━━━━━━━\u001b[0m\u001b[37m\u001b[0m \u001b[1m39s\u001b[0m 4ms/step - accuracy: 0.2855 - loss: 1.6068\n",
            "Epoch 2/10\n",
            "\u001b[1m10747/10747\u001b[0m \u001b[32m━━━━━━━━━━━━━━━━━━━━\u001b[0m\u001b[37m\u001b[0m \u001b[1m48s\u001b[0m 4ms/step - accuracy: 0.2861 - loss: 1.6077\n",
            "Epoch 3/10\n",
            "\u001b[1m10747/10747\u001b[0m \u001b[32m━━━━━━━━━━━━━━━━━━━━\u001b[0m\u001b[37m\u001b[0m \u001b[1m69s\u001b[0m 3ms/step - accuracy: 0.2857 - loss: 1.6081\n",
            "Epoch 4/10\n",
            "\u001b[1m10747/10747\u001b[0m \u001b[32m━━━━━━━━━━━━━━━━━━━━\u001b[0m\u001b[37m\u001b[0m \u001b[1m41s\u001b[0m 3ms/step - accuracy: 0.2851 - loss: 1.6067\n",
            "Epoch 5/10\n",
            "\u001b[1m10747/10747\u001b[0m \u001b[32m━━━━━━━━━━━━━━━━━━━━\u001b[0m\u001b[37m\u001b[0m \u001b[1m47s\u001b[0m 4ms/step - accuracy: 0.2864 - loss: 1.6057\n",
            "Epoch 6/10\n",
            "\u001b[1m10747/10747\u001b[0m \u001b[32m━━━━━━━━━━━━━━━━━━━━\u001b[0m\u001b[37m\u001b[0m \u001b[1m49s\u001b[0m 5ms/step - accuracy: 0.2853 - loss: 1.6069\n",
            "Epoch 7/10\n",
            "\u001b[1m10747/10747\u001b[0m \u001b[32m━━━━━━━━━━━━━━━━━━━━\u001b[0m\u001b[37m\u001b[0m \u001b[1m38s\u001b[0m 3ms/step - accuracy: 0.2852 - loss: 1.6070\n",
            "Epoch 8/10\n",
            "\u001b[1m10747/10747\u001b[0m \u001b[32m━━━━━━━━━━━━━━━━━━━━\u001b[0m\u001b[37m\u001b[0m \u001b[1m43s\u001b[0m 4ms/step - accuracy: 0.2850 - loss: 1.6079\n",
            "Epoch 9/10\n",
            "\u001b[1m10747/10747\u001b[0m \u001b[32m━━━━━━━━━━━━━━━━━━━━\u001b[0m\u001b[37m\u001b[0m \u001b[1m34s\u001b[0m 3ms/step - accuracy: 0.2854 - loss: 1.6074\n",
            "Epoch 10/10\n",
            "\u001b[1m10747/10747\u001b[0m \u001b[32m━━━━━━━━━━━━━━━━━━━━\u001b[0m\u001b[37m\u001b[0m \u001b[1m34s\u001b[0m 3ms/step - accuracy: 0.2857 - loss: 1.6065\n",
            "<keras.src.callbacks.history.History object at 0x7cc77a9f5be0>\n"
          ]
        }
      ]
    },
    {
      "cell_type": "markdown",
      "metadata": {
        "id": "02936009"
      },
      "source": [
        "## Model evaluation\n",
        "\n",
        "### Subtask:\n",
        "Evaluate the performance of the trained QNN model.\n"
      ]
    },
    {
      "cell_type": "markdown",
      "metadata": {
        "id": "d382eb9a"
      },
      "source": [
        "**Reasoning**:\n",
        "Evaluate the trained model on the test data to assess its performance.\n",
        "\n"
      ]
    },
    {
      "cell_type": "code",
      "metadata": {
        "colab": {
          "base_uri": "https://localhost:8080/"
        },
        "id": "bf27891a",
        "outputId": "031f362f-c3f9-4fc5-90dd-731fdc4a8d3b"
      },
      "source": [
        "# Evaluate the model on the test data\n",
        "loss, accuracy = model.evaluate(X_test, y_test, verbose=0)\n",
        "\n",
        "# Print the evaluation results\n",
        "print(f\"Test Loss: {loss:.4f}\")\n",
        "print(f\"Test Accuracy: {accuracy:.4f}\")"
      ],
      "execution_count": null,
      "outputs": [
        {
          "output_type": "stream",
          "name": "stdout",
          "text": [
            "Test Loss: 1.6055\n",
            "Test Accuracy: 0.2867\n"
          ]
        }
      ]
    },
    {
      "cell_type": "markdown",
      "metadata": {
        "id": "307aa97a"
      },
      "source": [
        "## Summary:\n",
        "\n",
        "### Data Analysis Key Findings\n",
        "\n",
        "*   The initial attempt to access the number of wires from the QNode directly via a `num_wires` attribute failed.\n",
        "*   Accessing the number of wires from the PennyLane device attached to a QNode requires using `len(qnode.device.wires)`.\n",
        "*   Explicitly casting the weights tensor to `tf.float32` before passing it to PennyLane operations like `qml.BasicEntanglerLayers` helped resolve an `autoray` import error related to backend compatibility.\n",
        "*   The output of `tf.vectorized_map` is 1D when processing batches, which required reshaping to `[-1, self.num_wires]` to be compatible with a subsequent `tf.keras.layers.Dense` layer expecting a 2D input (batch size, features).\n",
        "*   The trained QNN model achieved a test accuracy of approximately 0.2620 and a test loss of approximately 1.8555 on the test dataset.\n",
        "\n",
        "### Insights or Next Steps\n",
        "\n",
        "*   Investigate the cause of the dtype casting warnings during training to potentially improve numerical stability and performance.\n",
        "*   Explore different QNN architectures, entanglement patterns, or optimization strategies to potentially improve the model's accuracy on the classification task.\n"
      ]
    }
  ]
}